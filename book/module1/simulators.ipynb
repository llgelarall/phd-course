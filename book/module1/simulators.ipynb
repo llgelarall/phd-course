{
 "cells": [
  {
   "cell_type": "markdown",
   "metadata": {},
   "source": [
    "# Contemporary neuron simulators\n",
    "\n",
    "Of course, it is *not* advised to implement the neuron models yourself for several reasons.\n",
    "First, numerous people did this before you, so there is no need to reinvent the wheel.\n",
    "Second, depending on your requirements, you might want much more sophisticated integration methods than Euler's.\n",
    "Third, and probably most importantly, your code will likely be incredibly inefficient.\n",
    "\n",
    "We will provide a brief review below, but will, for the sake of this course, teach one of the more modern spiking neuron simulators, Norse.\n",
    "\n",
    ":::{note}\n",
    "The [Open Neuromorphic](https://open-neuromorphic.org) community published a [comprehensive list of spiking neural network simulators](https://open-neuromorphic.org/neuromorphic-computing/software/) if you are curious about the simulator landscape.\n",
    ":::"
   ]
  },
  {
   "cell_type": "markdown",
   "metadata": {},
   "source": [
    "## Using machine learning accelerators\n",
    "\n",
    "Simulating neurons is a classical SIMD problem: single instruction, multiple data.\n",
    "Meaning, we have a single neuron model (instruction), but we want to apply it many, many times.\n",
    "Graphical Processing Units (GPUs) are designed for exactly this, which is why modern neuron simulators rely heavily on GPUs to gain speed-ups of several orders of magnitude compared to CPUs.\n",
    "\n",
    "Programming GPUs, however, is complicated.\n",
    "It can be done, which is the case for the [SpikingJelly](https://open-neuromorphic.org/neuromorphic-computing/software/snn-frameworks/spikingjelly/) framework.\n",
    "The downside is that it becomes prohibitively expensive to code a large number of neuron models, but SpikingJelly has been efficiently used in many publications for its efficiency.\n",
    "\n",
    "Most contemporary simulators are built on modern machine learning accelerators like [PyTorch](https://pytorch.org) because they can compile the code down to more efficient representation.\n",
    "In practice, that means most libraries can work with Python code, but get (most of) the efficiency of low-level GPU programming.\n",
    "That is the case for the neuron simulator we will be using in this course, [Norse](https://github.com/norse/norse)\n"
   ]
  },
  {
   "cell_type": "markdown",
   "metadata": {},
   "source": [
    "## Installing Norse\n",
    "\n",
    "Before we start using Norse, let's install it:"
   ]
  },
  {
   "cell_type": "code",
   "execution_count": 1,
   "metadata": {},
   "outputs": [],
   "source": [
    "!pip install norse -q"
   ]
  },
  {
   "cell_type": "markdown",
   "metadata": {},
   "source": [
    "And import the necessary libraries"
   ]
  },
  {
   "cell_type": "code",
   "execution_count": 2,
   "metadata": {},
   "outputs": [],
   "source": [
    "import matplotlib.pyplot as plt\n",
    "import torch\n",
    "import norse"
   ]
  },
  {
   "cell_type": "markdown",
   "metadata": {},
   "source": [
    "# Working with Norse\n",
    "\n",
    "For us, Norse is a tool to accelerate our own work within spiking neural networks (SNN).\n",
    "This page serves to describe the fundamental ideas behind the Python code in Norse and\n",
    "provide you with specific tools to become productive with SNN.\n",
    "\n",
    "We will start by explaining some basic terminology, describe a *suggestion* to how Norse\n",
    "can be approached, and finally give you some tasks and examples that will train you to\n",
    "use Norse to solve specific problems."
   ]
  },
  {
   "cell_type": "markdown",
   "metadata": {},
   "source": [
    "## Terminology\n",
    "\n",
    "### Events and action potentials\n",
    "\n",
    "```{figure} book-fig-spikes.png\n",
    "---\n",
    "figclass: margin\n",
    "name: fig_working_spikes\n",
    "---\n",
    "Illustration of discrete events, or *spikes*, from 10 neurons (y-axis) over 40 timesteps (x-axis) with events shown in white.\n",
    "```\n",
    "\n",
    "Neurons are well-known for their efficacy because they only react to sparse (rare) events called [spikes or action potentials](https://en.wikipedia.org/wiki/Action_potential).\n",
    "In a spiking network, *less than* $2\\%$ of the neurons are typically active at once.\n",
    "In Norse, therefore, we mainly operate on **binary tensors** of 0's (no events) and 1's (spike!).\n",
    "{numref}`fig_working_spikes` illustrates such a random sampled data with exactly $2\\%$ activation.\n",
    "\n",
    "\n",
    "### Neurons and neuron state\n",
    "Neurons have parameters that determine their function. For example, they have a\n",
    "certain membrane voltage that will lead the neuron to spike *if* the voltage is\n",
    "above a threshold. Someone needs to keep track of that membrane voltage. If we \n",
    "wouldn't, the neuron membrane would never update, and we would never get any\n",
    "spikes. In Norse, we refer to that as the **neuron state**.\n",
    "\n",
    "In code, it looks like this:\n"
   ]
  },
  {
   "cell_type": "code",
   "execution_count": 3,
   "metadata": {},
   "outputs": [],
   "source": [
    "cell = norse.torch.LIFBoxCell()\n",
    "data = torch.ones(1)\n",
    "spikes, state = cell(data)        # First run is done without any state\n",
    "# ...\n",
    "spikes, state = cell(data, state) # Now we pass in the previous state"
   ]
  },
  {
   "cell_type": "markdown",
   "metadata": {},
   "source": [
    "States typically describe at least the neuron voltage (`v`) which illustrates the difference in \"electric tension\" in the neuron membrane.\n",
    "The higher the value, the more tension and better chance to arrive at a spike.\n",
    "\n",
    "Inspect the state below. What do you see? And what happens if you re-run the cell with the new state?"
   ]
  },
  {
   "cell_type": "code",
   "execution_count": 4,
   "metadata": {},
   "outputs": [
    {
     "data": {
      "text/plain": [
       "LIFBoxFeedForwardState(v=tensor([0.1900], grad_fn=<AddBackward0>))"
      ]
     },
     "execution_count": 4,
     "metadata": {},
     "output_type": "execute_result"
    }
   ],
   "source": [
    "state"
   ]
  },
  {
   "cell_type": "markdown",
   "metadata": {},
   "source": [
    "### Neuron dynamics and time\n",
    "\n",
    "Norse solves two of the hardest parts about running neuron simulations: neural equations and temporal dynamics.\n",
    "We provide a long list of neuron model implementations, as listed [in our documentation](https://norse.github.io/norse/generated/norse.torch.html#neuron-models) that is free to plug'n'play.\n",
    "\n",
    "Aligning with [PyTorch's API](https://pytorch.org/docs/stable/nn.html), we distinguish between simple neuron models that take one input timestep and returns one output timestep.\n",
    "Those models are effectively recurrent neural networks (RNNs) because we have to feed in the previous state (e.g. voltage) into the next timestep.\n",
    "If we didn't, the neuron would not know its current voltage potential.\n",
    "\n",
    "There are two ways you can achieve that.\n",
    "By looping or by using the Norse built-ins."
   ]
  },
  {
   "cell_type": "markdown",
   "metadata": {},
   "source": [
    "## Task 1: Evolve a neuron in time\n",
    "\n",
    "Create a `LIFBoxCell` from Norse and use the time-series data below in a loop to produce spikes."
   ]
  },
  {
   "cell_type": "code",
   "execution_count": 5,
   "metadata": {},
   "outputs": [],
   "source": [
    "data = torch.ones(100)\n",
    "\n",
    "# Loop here\n",
    "# ..."
   ]
  },
  {
   "cell_type": "markdown",
   "metadata": {},
   "source": [
    "Norse also has a `Lift` module, which works by \"lifting\" the neuron into the time domain.\n",
    "Effectively, the `Lift` module simply wraps the neuron in a `for`-loop so you don't have to:"
   ]
  },
  {
   "cell_type": "code",
   "execution_count": 6,
   "metadata": {
    "editable": true,
    "slideshow": {
     "slide_type": ""
    },
    "tags": []
   },
   "outputs": [],
   "source": [
    "data = torch.ones(100, 3) * torch.tensor([1, 2, 3])\n",
    "cell = norse.torch.Lift(norse.torch.LIFBoxCell())\n",
    "out, state = cell(data)\n",
    "\n",
    "# Plot the output:\n",
    "# plt.plot(out)"
   ]
  },
  {
   "cell_type": "markdown",
   "metadata": {
    "editable": true,
    "slideshow": {
     "slide_type": ""
    },
    "tags": []
   },
   "source": [
    "Oh-oh! What happened above? Can you figure out how to plot it?"
   ]
  },
  {
   "cell_type": "markdown",
   "metadata": {
    "editable": true,
    "slideshow": {
     "slide_type": ""
    },
    "tags": []
   },
   "source": [
    "## PyTorch as optimization framework\n",
    "\n",
    "PyTorch is designed as an optimization framework that heavily relies on backpropagation. \n",
    "In fact, all computational graphs in PyTorch are being traced and tracked so you can easily calculate gradients at a later point in time.\n",
    "We will discuss this more in-depth in the coming weeks.\n",
    "For now, just `detach` the gradients or use the Norse plotting utils:"
   ]
  },
  {
   "cell_type": "code",
   "execution_count": 7,
   "metadata": {
    "editable": true,
    "slideshow": {
     "slide_type": ""
    },
    "tags": []
   },
   "outputs": [
    {
     "data": {
      "text/plain": [
       "<Axes: >"
      ]
     },
     "execution_count": 7,
     "metadata": {},
     "output_type": "execute_result"
    },
    {
     "data": {
      "image/png": "[encoded data removed]",
      "text/plain": [
       "<Figure size 640x480 with 1 Axes>"
      ]
     },
     "metadata": {},
     "output_type": "display_data"
    }
   ],
   "source": [
    "norse.torch.plot_spikes_2d(out)"
   ]
  },
  {
   "cell_type": "markdown",
   "metadata": {
    "editable": true,
    "slideshow": {
     "slide_type": ""
    },
    "tags": []
   },
   "source": [
    "## Task 2: Change the time constant of the `LIFBoxCell`\n",
    "\n",
    "Above, we used the default behaviour of the `LIFBoxCell`.\n",
    "As you know, the time constant is an important factor, and we can parameterize that using a `LIFBoxParameter` class.\n",
    "It contains a `tau_mem_inv` which is the inverse time constant you were using in the previous notebook.\n",
    "\n",
    "Use the parameter object below to modify the time constant and see what happens with the behaviour of the `LIFBoxCell`.\n",
    "Can you set it so that it spikes more often? "
   ]
  },
  {
   "cell_type": "code",
   "execution_count": 8,
   "metadata": {
    "editable": true,
    "slideshow": {
     "slide_type": ""
    },
    "tags": []
   },
   "outputs": [],
   "source": [
    "p = norse.torch.LIFBoxParameters(tau_mem_inv=200)\n",
    "cell = norse.torch.Lift(norse.torch.LIFBoxCell(p))\n",
    "\n",
    "# What happens when you apply the same input data as before?"
   ]
  },
  {
   "cell_type": "markdown",
   "metadata": {},
   "source": [
    "## Currents and box integrations\n",
    "\n",
    "So far, we have been directly integrating current into our membrane.\n",
    "We can call this \"box integration\" because the integration is happening stepwise, similar to a box:"
   ]
  },
  {
   "cell_type": "code",
   "execution_count": 9,
   "metadata": {
    "editable": true,
    "slideshow": {
     "slide_type": ""
    },
    "tags": [
     "hide-input"
    ]
   },
   "outputs": [
    {
     "data": {
      "text/plain": [
       "[<matplotlib.lines.Line2D at 0x7efcb37ab0d0>]"
      ]
     },
     "execution_count": 9,
     "metadata": {},
     "output_type": "execute_result"
    },
    {
     "data": {
      "image/png": "[encoded data removed]",
      "text/plain": [
       "<Figure size 640x480 with 1 Axes>"
      ]
     },
     "metadata": {},
     "output_type": "display_data"
    }
   ],
   "source": [
    "plt.plot([0, 1, 1, 2, 2, 3], [0, 0, 1, 1, 0, 0])"
   ]
  },
  {
   "cell_type": "markdown",
   "metadata": {
    "editable": true,
    "slideshow": {
     "slide_type": ""
    },
    "tags": []
   },
   "source": [
    "But that's not how physics works.\n",
    "Current describes the rate of flow of electrons, and voltage is the difference in charge between two points.\n",
    "In real, physical neurons, the current will slowly build up and *charge* the membrane over time.\n",
    "So an integration with a discrete signal will look like this:\n",
    "\n",
    "![](li.gif)"
   ]
  },
  {
   "cell_type": "markdown",
   "metadata": {
    "editable": true,
    "slideshow": {
     "slide_type": ""
    },
    "tags": []
   },
   "source": [
    "That is, we actually have *two* time constants!\n",
    "One for charge (or the neuron synapses) $\\tau_{\\text{syn}}$ and one for the membrane voltage $\\tau_{\\text{mem}}$.\n",
    "\n",
    "In Norse, we distinguish between two types of models `LIBoxCell` which is a leaky integrator with box integration and `LICell` which is a leaky integrator with a current term."
   ]
  },
  {
   "cell_type": "markdown",
   "metadata": {
    "editable": true,
    "slideshow": {
     "slide_type": ""
    },
    "tags": []
   },
   "source": [
    "## Task 3: Study `LIBoxCell` and `LICell`\n",
    "\n",
    "Using a simple sinusiodal input current, study the different integrations of the `LIBoxCell` and `LICell`."
   ]
  },
  {
   "cell_type": "code",
   "execution_count": 10,
   "metadata": {
    "editable": true,
    "slideshow": {
     "slide_type": ""
    },
    "tags": []
   },
   "outputs": [
    {
     "data": {
      "text/plain": [
       "[<matplotlib.lines.Line2D at 0x7efcb5a75f00>]"
      ]
     },
     "execution_count": 10,
     "metadata": {},
     "output_type": "execute_result"
    },
    {
     "data": {
      "image/png": "[encoded data removed]",
      "text/plain": [
       "<Figure size 640x480 with 1 Axes>"
      ]
     },
     "metadata": {},
     "output_type": "display_data"
    }
   ],
   "source": [
    "input_current = torch.linspace(0, torch.pi * 10, 100).sin()\n",
    "plt.plot(input_current)"
   ]
  },
  {
   "cell_type": "code",
   "execution_count": 12,
   "metadata": {
    "editable": true,
    "slideshow": {
     "slide_type": ""
    },
    "tags": []
   },
   "outputs": [],
   "source": [
    "p = norse.torch.LIFBoxParameters(tau_mem_inv=200)\n",
    "box = norse.torch.LIBoxCell()\n",
    "# What happens when you use the sinusoidal input from above?"
   ]
  },
  {
   "cell_type": "code",
   "execution_count": 11,
   "metadata": {
    "editable": true,
    "slideshow": {
     "slide_type": ""
    },
    "tags": []
   },
   "outputs": [],
   "source": [
    "p = norse.torch.LIParameters(tau_mem_inv = 100, tau_syn_inv = 100)\n",
    "cell = norse.torch.LICell(p)\n",
    "# What happens when you use the sinusoidal input from above?"
   ]
  },
  {
   "cell_type": "markdown",
   "metadata": {},
   "source": [
    "## Task 4: Redraw the time surface with Norse\n",
    "\n",
    "Using Norse cells, redraw the time surface plot from before."
   ]
  },
  {
   "cell_type": "code",
   "execution_count": 15,
   "metadata": {},
   "outputs": [],
   "source": [
    "data = torch.load(\"sound_data.dat\")\n",
    "surface = ...\n",
    "\n",
    "# Plot the output\n",
    "# plt.imshow(surface)"
   ]
  },
  {
   "cell_type": "markdown",
   "metadata": {
    "editable": true,
    "slideshow": {
     "slide_type": ""
    },
    "tags": []
   },
   "source": [
    "## Norse workflow\n",
    "\n",
    "Norse is meant to be used as a library. Specifically, that means taking parts of it and\n",
    "remixing to fit the needs of a specific task. \n",
    "We have tried to provide useful, documented, and correct features from the spiking neural network domain, such\n",
    "that they become simple to work with.\n",
    "\n",
    "The two main differences from classical artificial neural networks is 1) the state variables containing the neuron parameters\n",
    "and 2) the temporal dimension means integrating the neuron over time. \n",
    "Apart from that, Norse works like you would expect any PyTorch module to work.\n",
    "\n",
    "When working with Norse, we recommend that you consider two things\n",
    "\n",
    "1. What neuron models will you need?\n",
    "2. What learning algorithms and/or plasticity models will you need?\n"
   ]
  },
  {
   "cell_type": "markdown",
   "metadata": {},
   "source": [
    "### Deciding on neuron models\n",
    "\n",
    "The choice of neuron model depends on the task. Should the model be biologically plausible? Computationally efficient? ...\n",
    "Two popular choices of models are the [leaky integrate-and-fire neuron model](https://norse.github.io/norse/norse.torch.html#leaky-integrate-and-fire-lif), which will provide spiking output of either `0`s or `1`s. Another model is the [leaky integrator](https://norse.github.io/norse/norse.torch.html#leaky-integrator), which will provide a voltage scalar output.\n",
    "Many more neuron models exist and can be found in our documentation: https://norse.github.io/norse/norse.torch.html#neuron-models\n",
    "\n",
    "### Deciding on learning/plasiticy models\n",
    "\n",
    "Optimization can be done using PyTorch's gradient-based optimizations, as seen in the [MNIST task](https://github.com/norse/norse/blob/master/norse/task/mnist.py#L100). We have implemented [SuperSpike](https://arxiv.org/abs/1705.11146v2) and many other [surrogate gradient methods](https://arxiv.org/abs/1901.09948) that lets you seamlessly integrate with Norse. The surrogate gradient methods are documented here: https://norse.github.io/norse/norse.torch.functional.html#threshold-functions\n",
    "\n",
    "If you require biological/local learning, we support plasticity via [STDP](https://norse.github.io/norse/generated/norse.torch.functional.stdp.html#module-norse.torch.functional.stdp) and [Tsodyks-Markram](https://norse.github.io/norse/generated/norse.torch.functional.tsodyks_makram.html#module-norse.torch.functional.tsodyks_makram) models."
   ]
  },
  {
   "cell_type": "markdown",
   "metadata": {
    "editable": true,
    "slideshow": {
     "slide_type": ""
    },
    "tags": []
   },
   "source": [
    "## Examples of deep learning problems in Norse\n",
    "\n",
    "Norse can be applied immediately for both fundamental research and deep learning problems.\n",
    "\n",
    "To **port existing deep learning problems**, we can simply 1) replicate ANN architecture, 2) lift the signal in time (to allow the neurons time to react to the input signal), and 3) replace the ANN activation functions with SNN activation functions.\n",
    "\n",
    "We have several examples of that in our [tasks section](https://norse.github.io/norse/pages/tasks.html), and [MNIST](https://github.com/norse/norse/blob/master/norse/task/mnist.py) is one of them; here we 1) build a convolutional network, 2) convert the MNIST dataset into sparse discrete events and 3) solve the task with LIF models, achieving >90% accuracy.\n",
    "\n",
    "We can also **replicate experiments from the literature**, as shown in the [memory task](https://github.com/norse/norse/blob/master/norse/task/memory.py) example. Here we use [adaptive long short-term spiking neural networks](https://github.com/IGITUGraz/LSNN-official) to solve temporal memory problems."
   ]
  }
 ],
 "metadata": {
  "interpreter": {
   "hash": "1d7c6e90a74384adccd95650de7b60ccf01b88e91c61eab2330936fc6c29e88b"
  },
  "kernelspec": {
   "display_name": "Python 3 (ipykernel)",
   "language": "python",
   "name": "python3"
  },
  "language_info": {
   "codemirror_mode": {
    "name": "ipython",
    "version": 3
   },
   "file_extension": ".py",
   "mimetype": "text/x-python",
   "name": "python",
   "nbconvert_exporter": "python",
   "pygments_lexer": "ipython3",
   "version": "3.10.12"
  }
 },
 "nbformat": 4,
 "nbformat_minor": 4
}
