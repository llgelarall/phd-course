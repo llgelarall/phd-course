{
 "cells": [
  {
   "cell_type": "markdown",
   "id": "8469528f-195d-42c2-9076-d15c31e1ea78",
   "metadata": {},
   "source": [
    "# Project 1: Manual neural control\n",
    "\n",
    "For control problems, spiking models such as the LIF model, are surprisingly useful.\n",
    "We can interpret the firing/non-firing of the neuron as a means to turn on and off a signal. On when the neuron is firing (`1`). Off when the neuron is silent (`0`).\n",
    "\n",
    "Spiking neural systems are useful for control systems because we can exploit the temporal dynamics to react to stimulus in the environment.\n",
    "On this page, we use the leaky integrator (LI) and leaky integrate-and-fire (LIF) models to solve simple problems with very few neurons."
   ]
  },
  {
   "cell_type": "markdown",
   "id": "d31da428-5fdd-4303-a589-835a97cd7e41",
   "metadata": {},
   "source": [
    "## Using spiking neurons for control\n",
    "\n",
    ":::{figure-md} started-lif\n",
    "<img src=\"EnvAgentBrain.png\" alt=\"no-current\" class=\"bg-primary mb-1\" >\n",
    "\n",
    "A closed control loop where an agent, controlled by a neural network, acts upon an environment that responds with observations (such as rewards, like cheese).\n",
    ":::\n",
    "\n",
    "Consider the following scenario: a mouse is walking around an environment looking for food.\n",
    "There is now a feedback loop between the mouse (agent) that 1) receives sensory observations, it can then 2) mull over in its artificial brain, so that it 3) can act upon the environment - probably with the hopes of fetching cheese.\n",
    "\n",
    "Zooming in on the brain, we can imagine the sensory signal (say, distance to cheese) can translate quite directly to a motor output: if the cheese if far away, go faster. Otherwise, stop and enjoy the cheese.\n",
    "If we have one neuron encoding for distance, then we have a small network that could look like this:\n",
    "\n",
    "```\n",
    "    Distance  --->  Leaky integrator  --->  Motor neuron\n",
    "```\n",
    "\n",
    "Referring to {numref}`the leaky-integrator above in Fig. %s <started-li>`, we can inject a specific current into our leaky integrator and get:\n",
    "\n",
    "```\n",
    "    0.1       --->  Leaky integrator  --->  0.5\n",
    "```\n",
    "\n",
    "Of course, 0.5 may be too much or too little, so it would be desirable to scale it with some factor.\n",
    "For that, we have weights:\n",
    "\n",
    "```\n",
    "    0.1       --->  Leaky integrator  --->  0.5  --->  Multiply by 2  --->  1.0\n",
    "```\n",
    "\n",
    "This is probably starting to look familiar to you because it closely resembles neural networks.\n",
    "And we can literally code this with a few lines of Python using Norse.\n",
    "\n",
    "```python\n",
    "import norse.torch as norse\n",
    "\n",
    "neuron = norse.LIBoxCell()\n",
    "voltage, state = neuron(0.5)\n",
    "scaled_output = voltage * 2\n",
    "```\n",
    "\n",
    "Note that the code above is identical to the diagram we drew before: we create a leaky integrator (`LIBoxCell`), apply a certain current, and scale it by a factor of 2.\n",
    "\n",
    "The above building blocks are sufficient to understand what happens in our tasks because the situation is the same:\n",
    "1. We provide input to `n` neurons that each code for some signal (like distance to food)\n",
    "2. We read the neuron response output (like neuron voltage or spike)\n",
    "3. (Optional) We may repeat step 1-2 with additional layers of neurons\n",
    "4. We provide the neuron output to the environment and repeat"
   ]
  },
  {
   "cell_type": "markdown",
   "id": "96991e01-8067-470a-b6a8-7110bfd2a186",
   "metadata": {},
   "source": [
    "## Project tasks\n",
    "\n",
    "We will be working with two different settings, resulting in three different neurorobotics tasks!\n",
    "\n",
    "To get started with each task, click on the links below.\n",
    "\n",
    "|     Task      |    Description     |      Link      |\n",
    "| ------------- | ------------------ | -------------- | \n",
    "| 1. **Cartpole**      |  Balance a wobbly cartpole | [**Click to start the experiment** ![Binder](https://mybinder.org/badge_logo.svg)](https://mybinder.org/v2/gh/ncskth/norse-rl/HEAD?filepath=book%2Fenv_cartpole.ipynb) |\n",
    "| 2. **Mice and cheese** |  Help a mouse find cheese | [**Click to start the experiment** ![Binder](https://mybinder.org/badge_logo.svg)](https://mybinder.org/v2/gh/ncskth/norse-rl/HEAD?filepath=book%2Fenv_grid.ipynb) |\n",
    "| 3. **Mice and mazes** |  Help a mouse find cheese, with obstacles! | [**Click to start the experiment** ![Binder](https://mybinder.org/badge_logo.svg)](https://mybinder.org/v2/gh/ncskth/norse-rl/HEAD?filepath=book%2Fenv_maze.ipynb) "
   ]
  }
 ],
 "metadata": {
  "kernelspec": {
   "display_name": "Python 3 (ipykernel)",
   "language": "python",
   "name": "python3"
  },
  "language_info": {
   "codemirror_mode": {
    "name": "ipython",
    "version": 3
   },
   "file_extension": ".py",
   "mimetype": "text/x-python",
   "name": "python",
   "nbconvert_exporter": "python",
   "pygments_lexer": "ipython3",
   "version": "3.10.12"
  }
 },
 "nbformat": 4,
 "nbformat_minor": 5
}
