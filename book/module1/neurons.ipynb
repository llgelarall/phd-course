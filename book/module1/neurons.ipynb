{
 "cells": [
  {
   "cell_type": "markdown",
   "metadata": {},
   "source": [
    "# Spiking neural networks\n",
    "\n",
    "Spiking neural networks are nonlinear systems that **respond to input by integrating signals over time**. \n",
    "Put differently, they react to signals with some *delay*.\n",
    "As an example, the [leaky integrate-and-fire](https://neuronaldynamics.epfl.ch/online/Ch1.S3.html) (LIF) neuron model integrates some incoming current until a threshold is reached where it fires a signal (`1`). Until that point in time, the neuron was silent (`0`).\n"
   ]
  },
  {
   "cell_type": "markdown",
   "metadata": {
    "editable": true,
    "slideshow": {
     "slide_type": ""
    },
    "tags": []
   },
   "source": [
    "## Imports\n",
    "\n",
    "Before we get started, we need to import some dependencies: numpy and matplotlib."
   ]
  },
  {
   "cell_type": "code",
   "execution_count": null,
   "metadata": {
    "editable": true,
    "slideshow": {
     "slide_type": ""
    },
    "tags": [],
    "vscode": {
     "languageId": "plaintext"
    }
   },
   "outputs": [],
   "source": [
    "import numpy as np\n",
    "import matplotlib.pyplot as plt\n",
    "import torch\n",
    "from urllib.request import urlretrieve"
   ]
  },
  {
   "cell_type": "markdown",
   "metadata": {
    "editable": true,
    "slideshow": {
     "slide_type": ""
    },
    "tags": []
   },
   "source": [
    "## Leaky integrator neuron models\n",
    "\n",
    "One of the simplest neuron-like models is the [leaky integrator](https://en.wikipedia.org/wiki/Leaky_integrator).\n",
    "It takes some input current and integrates it over time, but with a leak term trending towards its resting state.\n",
    "\n",
    ":::{figure-md} started-li\n",
    "<img src=\"li.gif\" alt=\"leaky integrator\" class=\"bg-primary mb-1\" >\n",
    "\n",
    "A leaky integrator that integrates current over time into its membrane potential.\n",
    "The left panel shows a constant input signal while the right shows a current oscillating between $[-0.1;0.1]A$.\n",
    "Note that the leaky integrator can produce *negative* membrane voltages.\n",
    ":::\n",
    "\n",
    "This type of neuron provides a continuous voltage, indicating the amount of current it builds up over time.\n",
    "The neuron voltage ($v$) evolves as follows:\n",
    "\n",
    "$$\n",
    "\\begin{align*}\n",
    "    \\dot{v} &= 1/\\tau (i - v) \\\\\n",
    "\\end{align*}\n",
    "$$"
   ]
  },
  {
   "cell_type": "markdown",
   "metadata": {
    "editable": true,
    "slideshow": {
     "slide_type": ""
    },
    "tags": []
   },
   "source": [
    "## Task 0: Generate input data\n",
    "\n",
    "To begin with, generate **at least** 1000 consecutive steps of input data.\n",
    "To keep things simple, the data should simply be 1000 ones (1), similar to the left panel above."
   ]
  },
  {
   "cell_type": "code",
   "execution_count": null,
   "metadata": {
    "editable": true,
    "slideshow": {
     "slide_type": ""
    },
    "tags": []
   },
   "outputs": [],
   "source": [
    "input_data = ..."
   ]
  },
  {
   "cell_type": "markdown",
   "metadata": {
    "editable": true,
    "slideshow": {
     "slide_type": ""
    },
    "tags": []
   },
   "source": [
    "## Task 1: Implement a leaky integrator\n",
    "\n",
    "Use the equation above to implement a leaky-integrator.\n",
    "To keep things simple, we will use [Euler's method](https://en.wikipedia.org/wiki/Euler_method) to calculate the evolution of the equation.\n",
    "That is, the value of the next timestep is simply the value of the previous timestep plus the function evaluated at the next timestep\n",
    "\n",
    "$$\n",
    "y_{n + 1} = y_n + hf(t_n, y_n)\n",
    "$$\n",
    "\n",
    "Where $h$ controls the size of the step. To keep things simple, we'll assume $h$ is equivalent to the inverse of our time constant, $1/\\tau$.\n",
    "\n",
    "The simplest way to implement this is by looping through the timesteps one by one.\n",
    "Note that you must somehow keep track of the current value of $v$ in the equation above."
   ]
  },
  {
   "cell_type": "code",
   "execution_count": null,
   "metadata": {
    "editable": true,
    "slideshow": {
     "slide_type": ""
    },
    "tags": [],
    "vscode": {
     "languageId": "plaintext"
    }
   },
   "outputs": [],
   "source": [
    "def leaky_integrator(input_data, tau):\n",
    "    # Loop through the input one step at the time\n",
    "    return ...\n",
    "\n",
    "\n",
    "# Plot the output\n",
    "# plt.plot(leaky_integrator(input_data, 1))"
   ]
  },
  {
   "cell_type": "markdown",
   "metadata": {
    "editable": true,
    "slideshow": {
     "slide_type": ""
    },
    "tags": []
   },
   "source": [
    "\n",
    "## Leaky integrate-and-fire neuron models\n",
    "\n",
    "The [leaky integrate-and-fire model](https://neuronaldynamics.epfl.ch/online/Ch1.S3.html) (LIF) is a popular choice for a neuron models because it is relatively simple to simulate, while still exhibiting interesting spiking dynamics.\n",
    "\n",
    ":::{figure-md} started-lif\n",
    "<img src=\"spikes.gif\" alt=\"no-current\" class=\"bg-primary mb-1\" >\n",
    "\n",
    "Three examples of how the LIF neuron model responds to three different, but constant, input currents: 0.0, 0.1, and 0.3. At 0.3, we see that the neuron fires a series of spikes, followed by a membrane \"reset\".\n",
    "Note that the neuron parameters are non-biological and that the memebrane voltage threshold is 1.\n",
    ":::\n",
    "\n",
    "The LIF model works like the leaky integrator, except when the neuron membrane voltage crosses the threshold $v_{th}$.\n",
    "If that happens, the membrane voltage resets and a spike (`1`) is emitted.\n",
    "In all other instances, the neuron outputs (`0`'s).\n",
    "From a control perspective, that is a quite interesting property because it resembles a binary \"gate\" that is either open or closed.\n",
    "\n",
    "The LIF dynamics are implemented as follows (note the similarity with the leaky integrator)\n",
    "\n",
    "$$\n",
    "\\begin{align*}\n",
    "\\dot{v} &= 1/\\tau (i - v) \\\\\n",
    "\\end{align*}\n",
    "$$\n",
    "\n",
    "with the jump equation\n",
    "\n",
    "$$\n",
    "\\begin{align*}\n",
    "    v &= (1-z) v + z\n",
    "\\end{align*}\n",
    "$$\n",
    "\n",
    "Where $z$ represents a spiking tensors with values $\\in \\{0, 1\\}$."
   ]
  },
  {
   "cell_type": "markdown",
   "metadata": {
    "editable": true,
    "slideshow": {
     "slide_type": ""
    },
    "tags": []
   },
   "source": [
    "## Task 2: Implement a leaky integrate-and-fire neuron\n",
    "\n",
    "Use Euler's method as you did for the leaky integrator above to implement the LIF dynamics."
   ]
  },
  {
   "cell_type": "code",
   "execution_count": null,
   "metadata": {
    "editable": true,
    "slideshow": {
     "slide_type": ""
    },
    "tags": []
   },
   "outputs": [],
   "source": [
    "def leaky_integrate_and_fire(input_data, tau, threshold):\n",
    "    # Loop through the input one step at the time\n",
    "    return output, membrane\n",
    "\n",
    "# Plot the output\n",
    "# output, membrane = leaky_integrate_and_fire(input_data)\n",
    "# plt.plot(membrane)\n",
    "# plt.scatter(range(len(input_data)), output)"
   ]
  },
  {
   "cell_type": "markdown",
   "metadata": {},
   "source": [
    "## Task 3: High-pass filter\n"
   ]
  },
  {
   "cell_type": "markdown",
   "metadata": {},
   "source": [
    "LIF neurons are essentially [high-pass filters](https://en.wikipedia.org/wiki/High-pass_filter) that filter out signals *below* and pass signals *above* a certain frequency."
   ]
  },
  {
   "cell_type": "markdown",
   "metadata": {},
   "source": [
    "Here is a signal at a certain frequency. What happens if you pass that through your LIF model? Can you the neuron spike?"
   ]
  },
  {
   "cell_type": "code",
   "execution_count": null,
   "metadata": {
    "editable": true,
    "slideshow": {
     "slide_type": ""
    },
    "tags": []
   },
   "outputs": [],
   "source": [
    "min_x = 0\n",
    "max_x = np.pi * 5\n",
    "samples = 100\n",
    "data_range = np.linspace(min_x, max_x, samples)\n",
    "data_signal = (np.cos(data_range) + 1) / 2\n",
    "plt.scatter(data_range, data_signal)"
   ]
  },
  {
   "cell_type": "markdown",
   "metadata": {},
   "source": [
    "Now, what if you changed the frequency of the data signal? You can do that by modifying the `max_x` to change the domain of the signal, for instance. Can you find a frequency that doesn't spike? Then you have effectively created a band-pass filter!"
   ]
  },
  {
   "cell_type": "code",
   "execution_count": null,
   "metadata": {},
   "outputs": [],
   "source": []
  },
  {
   "cell_type": "markdown",
   "metadata": {},
   "source": [
    "### Task 3.1: Band-pass filter (optional)\n",
    "\n",
    "A band-pass filter allows a specific range of frequencies to pass through. Can you combine two high-pass filters to create one single band-pass filter? You would have to create two high-pass filters, (1) one with a high cutoff and (2) one with a low cutoff, and combine them somehow."
   ]
  },
  {
   "cell_type": "code",
   "execution_count": null,
   "metadata": {},
   "outputs": [],
   "source": []
  },
  {
   "cell_type": "markdown",
   "metadata": {},
   "source": [
    "### Task 3.2: LIF neurons as band-pass filters (optional)\n",
    "\n",
    "We wrote that LIF neurons are technically high-pass filters because they filter away frequencies below a certain cut-off.\n",
    "They are *actually* also low-pass filters in some sense. Can you figure out why?"
   ]
  },
  {
   "cell_type": "markdown",
   "metadata": {},
   "source": [
    "## Task 4: Represent a spiking time-surface in Jupyter\n",
    "\n",
    "We are now going to look at events / spikes **in time**.\n",
    "Events are nothing but discrete values in time. But they represent important information, both in the spatial and temporal dimension.\n",
    "As an example, when sound hits your inner ear, it is decomposed and converted into spikes, roughly representing a discrete spectrogram.\n",
    "\n",
    "Here's an example of an audio recording of a digit from the [Spiking Heidelberg Digit dataset](https://zenkelab.org/resources/spiking-heidelberg-datasets-shd/).\n",
    "Every green dot represents a spike."
   ]
  },
  {
   "cell_type": "code",
   "execution_count": null,
   "metadata": {},
   "outputs": [],
   "source": [
    "filename, _ = urlretrieve(\"https://github.com/ncskth/phd-course/raw/main/book/module1/sound_data.dat\")\n",
    "data = torch.load(filename)\n",
    "plt.figure(figsize=(16, 4))\n",
    "plt.gca().set_xlabel(\"Time\")\n",
    "plt.gca().set_ylabel(\"Frequency\")\n",
    "plt.imshow(data, interpolation=\"none\")"
   ]
  },
  {
   "cell_type": "markdown",
   "metadata": {},
   "source": [
    "Note the `vmax=0.1`. What happens if you remove it? Why do we need it? Can you explain what that parameter is doing?\n",
    "\n",
    "Hint: plotting sparse data can hide a tremendous amount of detail if we're not careful."
   ]
  },
  {
   "cell_type": "markdown",
   "metadata": {},
   "source": [
    "What you see is a beautiful visualization of a signal in space **and** in time.\n",
    "In this kind of representation, time is tremendously important.\n",
    "One way to think about it is to view sound signals as space-time \"surfaces\"; we need to \"see\" the whole surface to make sense of it.\n",
    "Put differently, any downstream process that is sent your signal needs to somehow integrate time, otherwise it cannot capture the necessary information."
   ]
  },
  {
   "cell_type": "markdown",
   "metadata": {},
   "source": [
    "Time surfaces can be \"stretched\" and \"compacted\" in time by squeezing the signals closer together or prying them further apart.\n",
    "This is similar to sharpening and blurring effects in pictures.\n",
    "You'll see how that can work now."
   ]
  },
  {
   "cell_type": "markdown",
   "metadata": {},
   "source": [
    "### Task 4.1: Continuous time surface with leaky integrators"
   ]
  },
  {
   "cell_type": "markdown",
   "metadata": {},
   "source": [
    "Run the data above through your **leaky integrator** model and plot the output as a two-dimensional picture, as above.\n",
    "What does the plot represent?\n",
    "What happens when you increase/decrease the time constant $\\tau$?"
   ]
  },
  {
   "cell_type": "code",
   "execution_count": null,
   "metadata": {},
   "outputs": [],
   "source": []
  },
  {
   "cell_type": "markdown",
   "metadata": {},
   "source": [
    "### Task 4.2: Discrete time surface with leaky integrator-and-fire models "
   ]
  },
  {
   "cell_type": "markdown",
   "metadata": {},
   "source": [
    "Run the data above through you **leaky integrate-and-fire model** and plot the output as a two-dimensional picture, as above. What does the plot represent? What happens when you increase/decrease the time constant $\\tau$?"
   ]
  },
  {
   "cell_type": "code",
   "execution_count": null,
   "metadata": {},
   "outputs": [],
   "source": []
  },
  {
   "cell_type": "markdown",
   "metadata": {},
   "source": [
    "### Task 4.3: Use notebook sliders to visualize the difference (optional)\n",
    "\n",
    "To understand the effects of $\\tau$ for the above time surfaces it would be helpful to have some form of sliders to continuously change the value and visualize the effect.\n",
    "Luckily, this can be done with Jupyter Notebooks! Use the [Jupyter Widgets](https://ipywidgets.readthedocs.io/en/latest/examples/Widget%20Basics.html) to create a slider that changes the value of the time constant.\n",
    "Every time the time constant changes, you should regenerate and visualize the plot so we can observe the result.import ipywidgets as widgets"
   ]
  },
  {
   "cell_type": "code",
   "execution_count": null,
   "metadata": {
    "editable": true,
    "slideshow": {
     "slide_type": ""
    },
    "tags": []
   },
   "outputs": [],
   "source": [
    "import ipywidgets as widgets\n",
    "\n",
    "# ..."
   ]
  }
 ],
 "metadata": {
  "kernelspec": {
   "display_name": "Python 3 (ipykernel)",
   "language": "python",
   "name": "python3"
  },
  "language_info": {
   "codemirror_mode": {
    "name": "ipython",
    "version": 3
   },
   "file_extension": ".py",
   "mimetype": "text/x-python",
   "name": "python",
   "nbconvert_exporter": "python",
   "pygments_lexer": "ipython3",
   "version": "3.10.12"
  }
 },
 "nbformat": 4,
 "nbformat_minor": 4
}
