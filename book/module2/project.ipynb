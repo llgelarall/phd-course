{
 "cells": [
  {
   "cell_type": "markdown",
   "id": "3a689844-0468-4b87-a55a-a3f1603f8c90",
   "metadata": {},
   "source": [
    "# Project 2: Predict digits from audio\n",
    "\n",
    "The audio file we used in the past weeks is actually from a real dataset called the [Heidelberg Spiking Digits](https://zenkelab.org/resources/spiking-heidelberg-datasets-shd/).\n",
    "The dataset contains a number of audio recordings of digits in English and German with associated labels.\n",
    "The challenge is this: can you correctly predict what digit is being spoken **only** using spiking neuron layers?"
   ]
  },
  {
   "cell_type": "markdown",
   "id": "29c54dc3-6e03-4756-9eec-17391b79816f",
   "metadata": {},
   "source": [
    "## Getting and preprocessing the dataset"
   ]
  },
  {
   "cell_type": "markdown",
   "id": "85434bbf-e76a-4bc9-8708-958e2afbbbcf",
   "metadata": {},
   "source": [
    "The dataset can be found and installed via the dataset library Tonic: https://tonic.readthedocs.io/en/latest/generated/tonic.datasets.SHD.html\n",
    "\n",
    "However, the dataset is represented as sparse spikes in coordinates (time, x, y) and not dense tensors.\n",
    "We will learn much more about this next week, but for now, we can convert the data into the right format as follows:\n",
    "\n",
    "```python\n",
    "import tonic\n",
    "sensor_size = tonic.datasets.SHD.sensor_size\n",
    "transform = tonic.transforms.ToFrame(sensor_size=sensor_size, n_time_bins=20)\n",
    "dataset = tonic.datasets.SHD(save_to=\"...\", train=True, transform=transform)\n",
    "```\n",
    "\n",
    "Note that this gives us 20 frames! That may not be what you want. Plot the data to make sure you're getting what you want.\n",
    "\n",
    "We recommend using [PyTorch's dataloaders](https://pytorch.org/tutorials/beginner/basics/data_tutorial.html) to batch and work with your data."
   ]
  },
  {
   "cell_type": "markdown",
   "id": "e298922d-3a1a-433b-987d-aef418a82121",
   "metadata": {},
   "source": [
    "## Defining a loss function\n",
    "\n",
    "Now that you have the dataset, you can set up a loss function.\n",
    "Your network should provide one prediction (here's a hidden subtask; how many classes are there?) which you can compare to the label in your dataset.\n",
    "\n",
    "It will also be helpful to have a function that gives you the accuracy. So, given a number of predictions, how accurate were your model compared to the labels?"
   ]
  },
  {
   "cell_type": "code",
   "execution_count": 8,
   "id": "0a09a50e-e386-4b0a-81a7-7c2ed24d310b",
   "metadata": {},
   "outputs": [],
   "source": [
    "def loss_fn(prediction, label):\n",
    "    ..."
   ]
  },
  {
   "cell_type": "code",
   "execution_count": 9,
   "id": "24e554ea-dd76-4afa-bf43-ec0a952e0eda",
   "metadata": {},
   "outputs": [],
   "source": [
    "def accuracy(prediction, label):\n",
    "    ..."
   ]
  },
  {
   "cell_type": "markdown",
   "id": "4bc92d3a-2700-42fa-bed8-66577829a734",
   "metadata": {},
   "source": [
    "## Setting up the model \n",
    "\n",
    "The next step is to set up the model.\n",
    "We recommend starting simple; create a few layers with a single spiking neuron population, and then proceed to the training.\n",
    "When that is training, come back to this step and improve your models.\n",
    "Below, we have listed a number of resources that can help you fine-tune your model. But get it working first!"
   ]
  },
  {
   "cell_type": "code",
   "execution_count": 7,
   "id": "466d7293-d554-40dd-93b2-023fed2ecd3d",
   "metadata": {},
   "outputs": [],
   "source": [
    "# import norse\n",
    "# model = norse.torch.SequentialState(\n",
    "#     ...\n",
    "# )"
   ]
  },
  {
   "cell_type": "markdown",
   "id": "f52bd94d-e74a-4a0e-801a-4c7a696b6b66",
   "metadata": {},
   "source": [
    "## Training the model\n",
    "\n",
    "Use PyTorch's optimizers to train your model by running over the dataset, one epoch at the time.\n",
    "\n",
    "**Note**: you should use a **training dataset** and a **validation** dataset separately. Do not check your accuracy on the same dataset you're training on!"
   ]
  },
  {
   "cell_type": "code",
   "execution_count": null,
   "id": "f5405def-91dd-45e0-bf6c-07cb80eed23e",
   "metadata": {},
   "outputs": [],
   "source": [
    "# Setup the optimizer\n",
    "# import torch\n",
    "# optimizer = torch.optim...\n",
    "\n",
    "# Start training\n",
    "# import tqdm\n",
    "# dataloader = torch.data.DataLoader(...)\n",
    "# for x, y in tqdm.tqdm(dataloader):\n",
    "#   prediction = ...\n",
    "#   loss = ...\n",
    "#   optimizer.step()\n",
    "#   optimizer.zero_grad()"
   ]
  },
  {
   "cell_type": "markdown",
   "id": "87620ac1-6a6b-4dee-bf72-7d5e36f7bc8d",
   "metadata": {},
   "source": [
    "## Fine-tuning the model\n",
    "\n",
    "Now that your model is training, you should plot and inspect the loss and accuracy.\n",
    "Is the loss going down? If not, you're in trouble and should spend some time understanding why that is.\n",
    "If the loss is going down, is the accuracy going up high enough?\n",
    "\n",
    "We don't expect you to get 100% accuracy on the validation dataset. But try to at least get 60/70%.\n",
    "\n",
    "Here are a few resources that might come in handy:\n",
    "* [Norse tutorial notebooks](https://norse.github.io/notebooks/README.html)\n",
    "* [Training Spiking Neural Networks Using Lessons From Deep Learning](https://ieeexplore.ieee.org/document/10242251) \n",
    "* [SuperSpike: Supervised Learning in Multilayer Spiking Neural Networks](https://direct.mit.edu/neco/article/30/6/1514-1541/8378)"
   ]
  }
 ],
 "metadata": {
  "kernelspec": {
   "display_name": "Python 3 (ipykernel)",
   "language": "python",
   "name": "python3"
  },
  "language_info": {
   "codemirror_mode": {
    "name": "ipython",
    "version": 3
   },
   "file_extension": ".py",
   "mimetype": "text/x-python",
   "name": "python",
   "nbconvert_exporter": "python",
   "pygments_lexer": "ipython3",
   "version": "3.10.12"
  }
 },
 "nbformat": 4,
 "nbformat_minor": 5
}
