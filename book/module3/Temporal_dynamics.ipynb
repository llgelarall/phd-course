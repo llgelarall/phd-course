{
  "nbformat": 4,
  "nbformat_minor": 0,
  "metadata": {
    "colab": {
      "provenance": []
    },
    "kernelspec": {
      "name": "python3",
      "display_name": "Python 3"
    },
    "language_info": {
      "name": "python"
    }
  },
  "cells": [
    {
      "cell_type": "markdown",
      "source": [
        "# Time surfaces\n",
        "\n",
        "We will now explore the use of temporal dynamics of Leaky Integrators to address time domain problems.\n",
        "\n",
        "In the spatial domain, one can use the convolution operation to create neurons that respond to the activity of a specific region of the input signal, called receptive field. The neurons will be higly active if the input pattern within the receptive field matches the kernel of the convolution. In the temporal domain, these neurons can respond to temporal characteristics as well, such as the velocity of the moving pattern.\n",
        "\n",
        "To see how we can exploit such dynamics, we will implement a  model that can detect disks that move with different velocities."
      ],
      "metadata": {
        "id": "AwzLnVjIs6tK"
      }
    },
    {
      "cell_type": "markdown",
      "source": [
        "### Task 0: Importing the libraries\n",
        "\n",
        "We begin by importing the necessary libraries for our implementation, such as norse, torch and libraries to help us fetch and vsualize our data."
      ],
      "metadata": {
        "id": "ocIkztnQINtc"
      }
    },
    {
      "cell_type": "code",
      "source": [
        "!pip install norse\n",
        "\n",
        "import norse\n",
        "import torch\n",
        "import matplotlib.pyplot as plt\n",
        "from matplotlib.animation import FuncAnimation\n",
        "from IPython.display import HTML\n",
        "from urllib.request import urlretrieve"
      ],
      "metadata": {
        "id": "OO7Uc7OIIDCO"
      },
      "execution_count": null,
      "outputs": []
    },
    {
      "cell_type": "markdown",
      "source": [
        "### Task 1: Preprocessing the dataset\n",
        "\n",
        "Let's begin by obtaining and understanding the data. The data cosnist of events genetared from the motion of three disks in parallel in three different velocities. For this task, the polarity of the data has been ignored. Both the positive and negative polarity are considered the same and the data have the format (time, x, y).\n"
      ],
      "metadata": {
        "id": "mCBw-V7hv8DL"
      }
    },
    {
      "cell_type": "markdown",
      "source": [
        "#### Task 1.1: Loading the dataset\n",
        "\n",
        "The data are saved as a [sparse tensor](https://pytorch.org/docs/stable/sparse.html). This representation allows for memory efficient storage of the data but it is not so friendly to work with. You can convert it back to a dense tensor using `.to_dense()`."
      ],
      "metadata": {
        "id": "UbEYJISfJNCM"
      }
    },
    {
      "cell_type": "code",
      "source": [
        "data_file, _ = urlretrieve(\"https://github.com/ncskth/phd-course/raw/main/book/module3/2404_circle.dat\")\n",
        "data = torch.load(data_file)\n",
        "print(data.shape)\n",
        "print(data)\n",
        "\n",
        "# convert data to dense tensor\n",
        "# data = ...\n",
        "\n",
        "# print(data.shape)\n",
        "# print(data)"
      ],
      "metadata": {
        "id": "RzhDnCm3KSsZ"
      },
      "execution_count": null,
      "outputs": []
    },
    {
      "cell_type": "markdown",
      "source": [
        "What is the difference in the shape and representation of the sparse and the dense tensor?"
      ],
      "metadata": {
        "id": "HUw8e86-LBFz"
      }
    },
    {
      "cell_type": "markdown",
      "source": [
        "#### Task 1.2: Visualization\n",
        "\n",
        "In order to understand the data that we are working with, it is ofter very useful to visualize it. Use the `animate_frames` function provided below to animate the input data."
      ],
      "metadata": {
        "id": "p2a1sDn6KTC1"
      }
    },
    {
      "cell_type": "code",
      "source": [
        "def animate_frames(frames, figure=None, interval: int = 20, **kwargs):\n",
        "    if figure is None:\n",
        "        figure, _ = plt.subplots(**kwargs)\n",
        "    ax = figure.gca()\n",
        "\n",
        "    image = ax.imshow(frames[0])  # .T)\n",
        "    ax.set_axis_off()\n",
        "\n",
        "    def animate(index):\n",
        "        image.set_data(frames[index])  # .T)\n",
        "        return image\n",
        "\n",
        "    anim = FuncAnimation(figure, animate, frames=len(frames), interval=interval)\n",
        "    video = anim.to_html5_video()\n",
        "    html = HTML(video)\n",
        "    display(html)\n",
        "    plt.tight_layout()\n",
        "    plt.close()\n",
        "\n",
        "\n",
        "\n",
        "def events_to_frames(frames, polarity: bool = False):\n",
        "    if len(frames.shape) == 3:\n",
        "        frames = frames.unsqueeze(-1).repeat(1, 1, 1, 3)\n",
        "    else:\n",
        "        if not polarity:\n",
        "            frames = frames.abs().sum(-1)\n",
        "        elif polarity:\n",
        "            frames = torch.concat([frames, torch.zeros(frames.shape[0], 1, *frames.shape[2:], device=frames.device)], dim=1).movedim(1, -1)\n",
        "    frames = ((frames / frames.max()) * 255).int().clip(0, 255)\n",
        "    return frames"
      ],
      "metadata": {
        "id": "Rnjw8KFd5kdM"
      },
      "execution_count": null,
      "outputs": []
    },
    {
      "cell_type": "code",
      "source": [
        "# Visualize your data\n",
        "# ..."
      ],
      "metadata": {
        "id": "rXhyTblEyZK6"
      },
      "execution_count": null,
      "outputs": []
    },
    {
      "cell_type": "markdown",
      "source": [
        "### Task 2: Model Implementation\n",
        "\n",
        "To solve this task, you will need to create a simple network to extract the position of the three disks that differ in velocity. The model should identify the position of the disks and the speed regime (slow, medium, fast) of their motion.\n"
      ],
      "metadata": {
        "id": "Z1ukTpv62GS0"
      }
    },
    {
      "cell_type": "markdown",
      "source": [
        "#### Task 2.1: 2d convolutional kernel\n",
        "\n",
        "As a first step, you can perform a [2-dimenstional convolution](https://pytorch.org/docs/stable/generated/torch.nn.Conv2d.html).\n",
        "The convolution operation can be thought as pettern matching of the input with the kernel. The kernel is applied at every pixel of the input and the resulting value indicates how much the kernel matches the input at that position.\n",
        "\n",
        "To locate the position of the disks in space, you need to implement a kernel the shape of the disk (the ratio of the disk is 5 pixels.)\n",
        "It might be of help to fill the inner circle with zeros or negative values to avoid spurious activity.\n",
        "\n",
        "You can always come back and tune your kernel!\n",
        "\n",
        "Note that the weight matrix for the `Conv2d` layer should be 4-dimensional. (Why?)\n",
        "\n",
        "[torch.Tensor.unsqueeze_](https://pytorch.org/docs/stable/generated/torch.Tensor.unsqueeze_.html) and [torch.meshgrid](https://pytorch.org/docs/stable/generated/torch.meshgrid.html) could be useful for this task."
      ],
      "metadata": {
        "id": "EGOWEwxK7eJE"
      }
    },
    {
      "cell_type": "code",
      "source": [
        "def circular_kernel(radius):\n",
        "  # Implementation of a circular kernel to detect the moving disk\n",
        "  pass\n",
        "\n",
        "radius = 5\n",
        "circular_kernel_tensor = circular_kernel(radius)\n",
        "#plt.imshow(circular_kernel_tensor[0][0])"
      ],
      "metadata": {
        "colab": {
          "base_uri": "https://localhost:8080/",
          "height": 447
        },
        "id": "d_2GPDnQqUBE",
        "outputId": "5eb8cbb8-306d-4ee3-8430-9aefa21def14"
      },
      "execution_count": null,
      "outputs": [
        {
          "output_type": "execute_result",
          "data": {
            "text/plain": [
              "<matplotlib.image.AxesImage at 0x7e253084b730>"
            ]
          },
          "metadata": {},
          "execution_count": 354
        },
        {
          "output_type": "display_data",
          "data": {
            "text/plain": [
              "<Figure size 640x480 with 1 Axes>"
            ],
            "image/png": "[encoded data removed]"
          },
          "metadata": {}
        }
      ]
    },
    {
      "cell_type": "markdown",
      "source": [
        "####Task 2.2: Temporal channels\n",
        "\n",
        "Now that you have your spatial computing layer, you can work on the temporal units. You  should use  LIFBoxCell neurons for your network. The output of the convolution can then be fed into three neuron layers (channels), operating in parallel, with different temporal dynamics.\n",
        "\n",
        "To implement your network, you can create a module that inherits from [torch.nn.Module](https://pytorch.org/docs/stable/generated/torch.nn.Module.html). You can define the `forward` function to perform the convolution and feed its output to the three LIFBoxCell neuron layers.\n",
        "The model should output the response of these temporal layers. Each layer should be tuned to respond to different regimes of speed.\n",
        "You are advised to tune both the `tau_mem_inv` and `v_th` values of your parameters."
      ],
      "metadata": {
        "id": "hMA4n4FW3HwH"
      }
    },
    {
      "cell_type": "code",
      "source": [
        "class Network(torch.nn.Module):\n",
        "  def __init__(self):\n",
        "    super().__init__()\n",
        "\n",
        "    # correct the Conv2d() layer to have the correct number of input/output channels, kernel size, padding and bias settings\n",
        "    self.conv = torch.nn.Conv2d()\n",
        "    self.conv.weight.data = circular_kernel_tensor\n",
        "\n",
        "    # create the 3 different neuron layers to capture the disks\n",
        "    # self.parameters_1 = ...\n",
        "    # self.temporal_layer_1 = ...\n",
        "\n",
        "    # self.parameters_2 = ...\n",
        "    # ...\n",
        "\n",
        "  def forward(self, input):\n",
        "    state_1, state_2, state_3 = None, None, None\n",
        "    response_1, response_2, response_3 = [], [], []\n",
        "    for x in range(input.shape[0]):\n",
        "      # fill in the forward pass of each time step\n",
        "\n",
        "      # x = ...\n",
        "\n",
        "      pass\n",
        "\n",
        "    return response_1, response_2, response_3\n",
        "\n",
        "\n",
        "net = Network()\n",
        "response_1, response_2, response_3 = net(data.float())\n"
      ],
      "metadata": {
        "id": "N2MRmK-PvLPi"
      },
      "execution_count": null,
      "outputs": []
    },
    {
      "cell_type": "markdown",
      "source": [
        "#### Task 2.3: Visualize your results\n",
        "\n",
        "To understand how the network behaves, it would be wise to visualize its output as a video. Using the `animate_frames` function provided in Task 1.2, visualize your results.\n",
        "\n",
        "To better visualize your results you could create a single animation and superimpose the activations of your model.\n",
        "\n",
        "<br>\n",
        "\n",
        "What do you observe? Is it possible to create selective neuron layers for all three different velocities?"
      ],
      "metadata": {
        "id": "xaZf-4XZNrKL"
      }
    },
    {
      "cell_type": "code",
      "source": [
        "# Visualize your results\n",
        "\n",
        "# animate input data\n",
        "# animate response 1\n",
        "# animate response 2\n",
        "# animate response 3\n",
        "\n",
        "# OR\n",
        "\n",
        "# animate input data superimposing the model's response"
      ],
      "metadata": {
        "id": "UUQkpklxOQgQ"
      },
      "execution_count": null,
      "outputs": []
    },
    {
      "cell_type": "markdown",
      "source": [
        "### Task 3 (Optional): Velocity selectivity\n",
        "\n",
        "In the previous implementation, the neurons are selective to velocities above certain thresholds. However, we might want the neurons to be responsive to a bounded range of velocities, while staying silent on higher or lower speeds. To work around this issue, we will try to modify the initial network to suppress undesired activity."
      ],
      "metadata": {
        "id": "BuskZbTOw8LO"
      }
    },
    {
      "cell_type": "markdown",
      "source": [
        "#### Task 3.1: Inhibition\n",
        "\n",
        "In your model, there might have been unwanted activation in the 3 `LIFBoxCell` channels. Try to modify the forward pass of your model to inhibit such undesired activations. You can use the information of the other neurons' activity to inhibit certain channels of neurons."
      ],
      "metadata": {
        "id": "N4DIARfRPDIf"
      }
    },
    {
      "cell_type": "code",
      "source": [
        "class Network2(torch.nn.Module):\n",
        "  def __init__(self):\n",
        "    super().__init__()\n",
        "    # use the same network architecture as in Task 2.2\n",
        "    pass\n",
        "\n",
        "  def forward(self, input):\n",
        "    # perform the inhibition process\n",
        "    pass"
      ],
      "metadata": {
        "id": "LzekZL0USFt4"
      },
      "execution_count": null,
      "outputs": []
    },
    {
      "cell_type": "markdown",
      "source": [
        "Visualize your results. How does the inhibition process affect the model's performance?"
      ],
      "metadata": {
        "id": "KA-l5kUvSqtK"
      }
    },
    {
      "cell_type": "code",
      "source": [
        "# Visualize your results\n",
        "# ..."
      ],
      "metadata": {
        "id": "PZph7-nHom0U"
      },
      "execution_count": null,
      "outputs": []
    },
    {
      "cell_type": "markdown",
      "source": [
        "#### Task 3.2: Finetune model architecture\n",
        "\n",
        "No model is perfect! In your implementation, you might observe spurious activity away from the center of the disks as a result of the convolution operation. To suppress such activity, you can add a second layer that performs a smoothing operation. In this layer, you can use a convolution, such as a smoothing kernel, that is selective for activations in the center of the kernel with negative values in the surroundings. This will allow only for the most active regions, i.e. the center of the disks, to propagate events.\n",
        "\n",
        "You are encouraged to test different architectures and connectivities."
      ],
      "metadata": {
        "id": "dnmWp9lmS2qj"
      }
    }
  ]
}