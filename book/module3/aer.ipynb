{
 "cells": [
  {
   "cell_type": "markdown",
   "id": "f9cc0c4d-5fcd-4659-be10-d415edea4a26",
   "metadata": {},
   "source": [
    "# Working with AER\n",
    "\n",
    "Address-event representations (AER) is one of many ways to represent events. In AER, a single event is represented by a tuple, describing its \"coordinates\" in spacetime. For a 2-dimensional camera, that can be\n",
    "\n",
    "$$\n",
    "t \\times x \\times y\n",
    "$$\n",
    "\n",
    "If we have many events (and we do!), then we observe a very long list of these AER tuples, like this in `csv` format:\n",
    "\n",
    "```csv\n",
    "0,120,3\n",
    "0,271,128\n",
    "...\n",
    "```\n",
    "\n",
    "Note that this is very different from how we are normally working with data (in dense tensors). So, first, we should convert these coordinates to tensors."
   ]
  },
  {
   "cell_type": "markdown",
   "id": "b37d175d-d41a-44f6-91da-6efdee9248f5",
   "metadata": {},
   "source": [
    "## Task 0: Imports"
   ]
  },
  {
   "cell_type": "code",
   "execution_count": 6,
   "id": "7bb4f9e5-6180-4b6e-a267-1783cfd166a4",
   "metadata": {},
   "outputs": [],
   "source": [
    "import numpy as np\n",
    "import torch\n",
    "from urllib.request import urlretrieve\n",
    "import matplotlib.pyplot as plt\n",
    "import tqdm"
   ]
  },
  {
   "cell_type": "markdown",
   "id": "ef5f6ad2-5b41-4dad-9710-1422a6e02375",
   "metadata": {},
   "source": [
    "## Task 1: Working with coordinates\n",
    "\n",
    "We prepared a simple sample in a CSV file. It's in the file `sample.csv`. Load it using `numpy.loadtxt` or similar. Can you make sense of it? What does it show? Can you name each column?"
   ]
  },
  {
   "cell_type": "code",
   "execution_count": 2,
   "id": "b111b2b5-02f2-446a-8313-02fbd4f00c21",
   "metadata": {},
   "outputs": [],
   "source": [
    "filename, _ = urlretrieve(\"https://raw.githubusercontent.com/ncskth/phd-course/main/book/module3/sample.csv\")\n",
    "data = np.loadtxt(filename, delimiter=\",\")\n",
    "# ..."
   ]
  },
  {
   "cell_type": "markdown",
   "id": "bbc2e3fd-8862-4ddd-9833-865a59962ce1",
   "metadata": {},
   "source": [
    "## Task 2: Working with event files\n",
    "\n",
    "The CSV format is poorly suited for describing AER data. For that, we have more sophisticated AER representations, such as [AEDAT](https://gitlab.com/inivation/inivation-docs/blob/master/Software%20user%20guides/AEDAT_file_formats.md#aedat-40), [EVT](https://docs.prophesee.ai/stable/data/encoding_formats/evt3.html), [RAW](https://docs.prophesee.ai/stable/data/file_formats/raw.html), and several others. Fortunately, we have a piece of software that can help us out: [AEStream](https://github.com/aestream/aestream)\n",
    "\n",
    "Before getting started, install AEStream below:"
   ]
  },
  {
   "cell_type": "code",
   "execution_count": 3,
   "id": "d4fb1473-9198-4093-95ab-8045e1094fac",
   "metadata": {},
   "outputs": [],
   "source": [
    "!pip install aestream -q"
   ]
  },
  {
   "cell_type": "markdown",
   "id": "cbe80339-a02c-4911-96fa-f79c9392d3af",
   "metadata": {},
   "source": [
    "## Task 2.1: Loading up all the events"
   ]
  },
  {
   "cell_type": "markdown",
   "id": "000766dd-84ff-481f-a4c3-b6108a1711d6",
   "metadata": {},
   "source": [
    "Import it and use the `FileInput` to `.load()` another sample, this time using the EVT format in a file named `sample.dat`. Can you figure out what aestream loaded for us?"
   ]
  },
  {
   "cell_type": "code",
   "execution_count": 4,
   "id": "1bf6e740-7de9-4101-be49-057a5d5b115e",
   "metadata": {},
   "outputs": [],
   "source": [
    "import aestream\n",
    "filename_dat, _ = urlretrieve(\"https://raw.githubusercontent.com/ncskth/phd-course/main/book/module3/sample.dat\", filename=\"sample.dat\")\n",
    "events = aestream.FileInput(filename_dat, (640, 480)).load()\n",
    "# ..."
   ]
  },
  {
   "cell_type": "markdown",
   "id": "0d2028e1-7f7c-417f-8b0f-a0a3c55fd4f9",
   "metadata": {},
   "source": [
    "**Hint**: Note that the events are now four dimensions. Why do you think that is?"
   ]
  },
  {
   "cell_type": "markdown",
   "id": "8164f33e-d2aa-4e20-9722-63313cb52569",
   "metadata": {},
   "source": [
    "## Task 2.2: Working with frames"
   ]
  },
  {
   "cell_type": "markdown",
   "id": "d272abfd-2bd0-4902-9dd0-296b2bd9f360",
   "metadata": {},
   "source": [
    "The problem with the AER format is that it's pretty unhandy when we work with neural networks on CPUs and GPUs.\n",
    "Here, we will need tensors of a fixed shape that we can pass into our networks.\n",
    "\n",
    "The code below creates frames for you in a very manual and tedious way. \n",
    "\n",
    "* Can you tell what the code is doing?\n",
    "* Why is it slow? And what could you do to make it faster?"
   ]
  },
  {
   "cell_type": "code",
   "execution_count": 15,
   "id": "55a1f208-d4d0-4f9f-a7e9-8469255235c9",
   "metadata": {},
   "outputs": [
    {
     "name": "stderr",
     "output_type": "stream",
     "text": [
      "100%|██████████████████████████████████████████████████████████| 539481/539481 [00:08<00:00, 65227.16it/s]\n"
     ]
    }
   ],
   "source": [
    "# We only look at the first 10^6 events\n",
    "events_subset = events[:1000000] \n",
    "# The interval between frames\n",
    "time_interval = 1000\n",
    "\n",
    "# Start generating a number of frames\n",
    "frames = []\n",
    "index = 0\n",
    "current_frame = torch.zeros(2, 640, 480)\n",
    "for (t, x, y, p) in tqdm.tqdm(events_subset):\n",
    "    if t // time_interval > index:\n",
    "        frames.append(current_frame.clone())\n",
    "        current_frame.fill_(0)\n",
    "        index += 1\n",
    "    current_frame[p, x, y] = 1"
   ]
  },
  {
   "cell_type": "markdown",
   "id": "07a6a067-69cb-4d00-81cb-e659d54f82d1",
   "metadata": {},
   "source": [
    "### Task 2.3: Plot the frames\n",
    "\n",
    "Let's inspect the frames that came out of this. Is it reasonable to use this as input data to the task below: a convolutional edge detector? Why/why not?"
   ]
  },
  {
   "cell_type": "code",
   "execution_count": 23,
   "id": "a1078954-d8ea-437d-8b23-6e239b786298",
   "metadata": {},
   "outputs": [],
   "source": [
    "# plt.imshow(...)"
   ]
  },
  {
   "cell_type": "markdown",
   "id": "46286e24-81ef-4e42-a62a-9599924c3a4b",
   "metadata": {},
   "source": [
    "### 2.4: Rework the `time_interval` above to produce more reasonable frames\n",
    "\n",
    "**Spoiler**: the frames above are weird.\n",
    "Probably because the `time_interval` setting above is wrong.\n",
    "\n",
    "Fix it! Then re-run your frames and inspect them to see if they make more sense."
   ]
  },
  {
   "attachments": {},
   "cell_type": "markdown",
   "id": "3a94cc7d-990f-4d42-b64f-4fa3736baab7",
   "metadata": {},
   "source": [
    "## Task 3: Convolutional edge detector\n",
    "\n",
    "In this task, we'll create a convolutional edge detector.\n",
    "It will work very similar to a regular convolutional neural network in the sense that we \"simply\" take a kernel that looks for an elementary (edge) pattern and then apply it to the incoming frames.\n",
    "Easy.\n",
    "And it works well with events, too.\n",
    "\n",
    "\n",
    "Here's a video that shows you a an example from the [AEStream docs](https://github.com/aestream/aestream/blob/main/example/usb_edgedetection.py) where we detect horizontal and vertical edges.\n",
    "Use the code for inspiration.\n",
    "\n",
    "![](https://media.githubusercontent.com/media/aestream/aestream/main/example/usb_edgedetection.gif)"
   ]
  },
  {
   "cell_type": "markdown",
   "id": "8cfcf388-ddc8-4b00-b631-6cc7bae6aa70",
   "metadata": {},
   "source": [
    "### Task 3.1 Define a kernel\n",
    "\n",
    "The first step is to define a kernel that can detect a certain type of edge. Here's one example you can use if you'd like. Can you figure out what this code is doing?"
   ]
  },
  {
   "cell_type": "code",
   "execution_count": 9,
   "id": "aa768332-cbc9-48c5-b4d0-ff571ad5c6af",
   "metadata": {},
   "outputs": [
    {
     "data": {
      "text/plain": [
       "<matplotlib.colorbar.Colorbar at 0x746a3b626da0>"
      ]
     },
     "execution_count": 9,
     "metadata": {},
     "output_type": "execute_result"
    },
    {
     "data": {
      "image/png": "[encoded data removed]",
      "text/plain": [
       "<Figure size 640x480 with 2 Axes>"
      ]
     },
     "metadata": {},
     "output_type": "display_data"
    }
   ],
   "source": [
    "kernel_size = 9\n",
    "gaussian = torch.sigmoid(torch.linspace(-10, 10, kernel_size + 1))\n",
    "kernel = (gaussian.diff() - 0.14).repeat(kernel_size, 1)\n",
    "plt.imshow(kernel)\n",
    "plt.colorbar()"
   ]
  },
  {
   "cell_type": "markdown",
   "id": "b44a769f-0b03-4299-be9b-b1c31d9ac7ec",
   "metadata": {},
   "source": [
    "### Task 3.2\n",
    "\n",
    "Use your kernel in a convolutional layer."
   ]
  },
  {
   "cell_type": "code",
   "execution_count": 10,
   "id": "00089a02-a9a1-4c5f-a55d-70572098a177",
   "metadata": {},
   "outputs": [],
   "source": [
    "net = ..."
   ]
  },
  {
   "cell_type": "markdown",
   "id": "cd96a3fe-66f5-4368-bee3-28e023cb4ee3",
   "metadata": {},
   "source": [
    "### Task 3.3\n",
    "\n",
    "Apply your convolutional network to the frames above. Do you see what you expect?\n",
    "\n",
    "Try tweaking your kernels above to see if you can get more meaningful results."
   ]
  },
  {
   "cell_type": "code",
   "execution_count": 25,
   "id": "1f68b722-7c4c-43ad-852f-69ffefed2404",
   "metadata": {},
   "outputs": [],
   "source": [
    "# output = []\n",
    "# for frame in frames:\n",
    "#   output.append(net(frame))\n",
    "#    ..."
   ]
  }
 ],
 "metadata": {
  "kernelspec": {
   "display_name": "Python 3 (ipykernel)",
   "language": "python",
   "name": "python3"
  },
  "language_info": {
   "codemirror_mode": {
    "name": "ipython",
    "version": 3
   },
   "file_extension": ".py",
   "mimetype": "text/x-python",
   "name": "python",
   "nbconvert_exporter": "python",
   "pygments_lexer": "ipython3",
   "version": "3.10.12"
  }
 },
 "nbformat": 4,
 "nbformat_minor": 5
}
